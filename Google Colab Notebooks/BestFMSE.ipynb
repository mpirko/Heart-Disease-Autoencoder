{
  "nbformat": 4,
  "nbformat_minor": 0,
  "metadata": {
    "colab": {
      "provenance": []
    },
    "kernelspec": {
      "name": "python3",
      "display_name": "Python 3"
    },
    "language_info": {
      "name": "python"
    }
  },
  "cells": [
    {
      "cell_type": "code",
      "execution_count": 1,
      "metadata": {
        "colab": {
          "base_uri": "https://localhost:8080/"
        },
        "id": "R9Z6Y-wG8vHB",
        "outputId": "1995fd1e-036e-4a27-942c-075def77cc61"
      },
      "outputs": [
        {
          "output_type": "stream",
          "name": "stdout",
          "text": [
            "Mounted at /content/drive\n"
          ]
        }
      ],
      "source": [
        "from google.colab import drive\n",
        "drive.mount('/content/drive')\n"
      ]
    },
    {
      "cell_type": "code",
      "source": [
        "%cd /content/drive/MyDrive/Datasets/\n",
        "import pandas as pd\n",
        "df = pd.read_csv('processed.cleveland.data')"
      ],
      "metadata": {
        "colab": {
          "base_uri": "https://localhost:8080/"
        },
        "id": "ck3mOcbQ83Sd",
        "outputId": "6b69da8f-dfdf-48c3-c25f-5ff597093e18"
      },
      "execution_count": 2,
      "outputs": [
        {
          "output_type": "stream",
          "name": "stdout",
          "text": [
            "/content/drive/MyDrive/Datasets\n"
          ]
        }
      ]
    },
    {
      "cell_type": "code",
      "source": [
        "df.columns = ['Age (Years)', 'Sex', 'Chest Pain Type', 'Resting Blood Pressure (mmHg)', 'Serum Cholesterol (mmHg)', 'Fasting Blood Sugar > 120 mg/dL', 'Resting Electrocardiographic Results', 'Maximum Heart Rate Achieved', 'Exercise-Induced Angina', 'ST Depression Induced by Exercise Relative to Rest', 'Slope of the Peak Exercise ST Segment','Number of Major Vessels Colored by Fluoroscopy', 'Thalassemia', 'Diagnosis of Heart Disease']"
      ],
      "metadata": {
        "id": "T3YwqdPW9196"
      },
      "execution_count": 5,
      "outputs": []
    },
    {
      "cell_type": "code",
      "source": [
        "import numpy as np\n",
        "import pandas as pd\n",
        "import tensorflow as tf\n",
        "from sklearn.preprocessing import QuantileTransformer\n",
        "\n",
        "# Load the test data\n",
        "df = pd.read_csv('processed.cleveland.data', header=None)\n",
        "df.columns = ['Age', 'Sex', 'ChestPainType', 'RestingBP', 'Cholesterol', 'FastingBS', 'RestingECG',\n",
        "              'MaxHR', 'ExerciseAngina', 'Oldpeak', 'STslope', 'MajorVessels', 'Thal', 'Target']\n",
        "df.replace('?', np.nan, inplace=True)\n",
        "df = df.astype(float)\n",
        "df.dropna(inplace=True)\n",
        "X_test = df.iloc[:, :13].values\n",
        "y_test = df.iloc[:, 13].values\n",
        "\n",
        "# Normalize the test data\n",
        "scaler = QuantileTransformer(n_quantiles=df.shape[0], output_distribution=\"uniform\", random_state=1111)\n",
        "X_test = scaler.fit_transform(X_test)\n",
        "\n",
        "# Load the 5 autoencoder models\n",
        "model_filenames = [\"NoHyperparameter.h5\", \"Hyperparameter.h5\", \"EarlyStopHyperparameter.h5\", \"ExtraHiddenLayer.h5\", \"OneLessHiddenLayer.h5\"]\n",
        "models = []\n",
        "for model_filename in model_filenames:\n",
        "    model = tf.keras.models.load_model(model_filename)\n",
        "    models.append(model)\n",
        "\n",
        "# Evaluate the FMSE of each model on the test data\n",
        "fmse_scores = []\n",
        "for model, model_filename in zip(models, model_filenames):\n",
        "    y_pred = model.predict(X_test)\n",
        "    fmse = np.mean(np.square(X_test - y_pred))\n",
        "    fmse_scores.append(fmse)\n",
        "    print(f\"{model_filename} FMSE score: {fmse:.5f}\")\n",
        "\n",
        "# Compare the performances of the models\n",
        "best_model_index = np.argmin(fmse_scores)\n",
        "print(f\"Best model is {model_filenames[best_model_index]}\") \n"
      ],
      "metadata": {
        "colab": {
          "base_uri": "https://localhost:8080/"
        },
        "id": "ENAT0R9B80g4",
        "outputId": "5cc85ba0-7f7d-45ef-803f-2c4f0cab9089"
      },
      "execution_count": 10,
      "outputs": [
        {
          "output_type": "stream",
          "name": "stdout",
          "text": [
            "10/10 [==============================] - 0s 3ms/step\n",
            "NoHyperparameter.h5 FMSE score: 0.03094\n",
            "10/10 [==============================] - 0s 3ms/step\n",
            "Hyperparameter.h5 FMSE score: 0.02946\n",
            "10/10 [==============================] - 0s 3ms/step\n",
            "EarlyStopHyperparameter.h5 FMSE score: 0.03309\n",
            "10/10 [==============================] - 0s 2ms/step\n",
            "ExtraHiddenLayer.h5 FMSE score: 0.02791\n",
            "10/10 [==============================] - 0s 2ms/step\n",
            "OneLessHiddenLayer.h5 FMSE score: 0.02744\n",
            "Best model is OneLessHiddenLayer.h5\n"
          ]
        }
      ]
    },
    {
      "cell_type": "code",
      "source": [
        "import matplotlib.pyplot as plt\n",
        "import numpy as np\n",
        "\n",
        "# Define the FMSE values of each model\n",
        "fmse_values = [fmse_scores[0], fmse_scores[1], fmse_scores[2], fmse_scores[3], fmse_scores[4]]\n",
        "\n",
        "# Define the names of each model\n",
        "model_names = ['NoHyperparameter', 'Hyperparameter', 'EarlyStopHyperparameter', 'ExtraHiddenLayer', 'OneLessHiddenLayer']\n",
        "\n",
        "# Set the plot title and axis labels\n",
        "plt.title('Comparison of FMSE values')\n",
        "plt.xlabel('Autoencoder models')\n",
        "plt.ylabel('FMSE values')\n",
        "\n",
        "# Create the bar chart\n",
        "plt.bar(model_names, fmse_values)\n",
        "\n",
        "# Add FMSE values to the bars\n",
        "fmse_min = np.min(fmse_values)\n",
        "for i, v in enumerate(fmse_values):\n",
        "    plt.text(i-0.1, v-(fmse_min*0.05), str(np.round(v, 3)), fontweight='bold')\n",
        "\n",
        "# Rotate the x-axis labels\n",
        "plt.xticks(rotation=90)\n",
        "\n",
        "# Show the plot\n",
        "plt.show()\n",
        "\n",
        "\n",
        "\n"
      ],
      "metadata": {
        "colab": {
          "base_uri": "https://localhost:8080/",
          "height": 640
        },
        "id": "1AAV9DCw9tLh",
        "outputId": "78394296-01ce-441c-ff09-7b0faaedd930"
      },
      "execution_count": 13,
      "outputs": [
        {
          "output_type": "display_data",
          "data": {
            "text/plain": [
              "<Figure size 640x480 with 1 Axes>"
            ],
            "image/png": "[encoded data removed]"
          },
          "metadata": {}
        }
      ]
    },
    {
      "cell_type": "code",
      "source": [
        "from tensorflow.keras.models import load_model\n",
        "\n",
        "model_names = ['NoHyperparameter', 'Hyperparameter', 'EarlyStopHyperparameter', 'ExtraHiddenLayer', 'OneLessHiddenLayer']\n",
        "\n",
        "models = []\n",
        "\n",
        "for name in model_names:\n",
        "    model_path = f\"{name}.h5\"\n",
        "    model = load_model(model_path)\n",
        "    models.append(model)\n",
        "\n",
        "\n",
        "\n"
      ],
      "metadata": {
        "id": "H0rTLEX0SD7w"
      },
      "execution_count": 25,
      "outputs": []
    },
    {
      "cell_type": "code",
      "source": [
        "from tensorflow.keras.models import load_model\n",
        "\n",
        "model_names = ['NoHyperparameter', 'Hyperparameter', 'EarlyStopHyperparameter', 'ExtraHiddenLayer', 'OneLessHiddenLayer']\n",
        "\n",
        "models = []\n",
        "\n",
        "for name in model_names:\n",
        "    model_path = f\"{name}.h5\"\n",
        "    model = load_model(model_path)\n",
        "    models.append(model)\n",
        "\n",
        "import matplotlib.pyplot as plt\n",
        "\n",
        "# Plot the training and validation loss for each model\n",
        "for i, model in enumerate(models):\n",
        "    plt.plot(model.history.history['loss'], label=f'Training Loss ({model_names[i]})')\n",
        "    plt.plot(model.history.history['val_loss'], label=f'Validation Loss ({model_names[i]})')\n",
        "    \n",
        "plt.legend()\n",
        "plt.ylabel(\"Loss\")\n",
        "plt.xlabel(\"Epoch\")\n",
        "plt.show()\n",
        "\n",
        "# Reset the 'models' list\n",
        "models = []\n",
        "\n",
        "\n"
      ],
      "metadata": {
        "colab": {
          "base_uri": "https://localhost:8080/",
          "height": 232
        },
        "id": "a-juJLcBUvcI",
        "outputId": "a1f841f7-cae1-4911-b912-c3170a137d92"
      },
      "execution_count": 32,
      "outputs": [
        {
          "output_type": "error",
          "ename": "AttributeError",
          "evalue": "ignored",
          "traceback": [
            "\u001b[0;31m---------------------------------------------------------------------------\u001b[0m",
            "\u001b[0;31mAttributeError\u001b[0m                            Traceback (most recent call last)",
            "\u001b[0;32m<ipython-input-32-229cb46aed86>\u001b[0m in \u001b[0;36m<cell line: 15>\u001b[0;34m()\u001b[0m\n\u001b[1;32m     14\u001b[0m \u001b[0;31m# Plot the training and validation loss for each model\u001b[0m\u001b[0;34m\u001b[0m\u001b[0;34m\u001b[0m\u001b[0m\n\u001b[1;32m     15\u001b[0m \u001b[0;32mfor\u001b[0m \u001b[0mi\u001b[0m\u001b[0;34m,\u001b[0m \u001b[0mmodel\u001b[0m \u001b[0;32min\u001b[0m \u001b[0menumerate\u001b[0m\u001b[0;34m(\u001b[0m\u001b[0mmodels\u001b[0m\u001b[0;34m)\u001b[0m\u001b[0;34m:\u001b[0m\u001b[0;34m\u001b[0m\u001b[0;34m\u001b[0m\u001b[0m\n\u001b[0;32m---> 16\u001b[0;31m     \u001b[0mplt\u001b[0m\u001b[0;34m.\u001b[0m\u001b[0mplot\u001b[0m\u001b[0;34m(\u001b[0m\u001b[0mmodel\u001b[0m\u001b[0;34m.\u001b[0m\u001b[0mhistory\u001b[0m\u001b[0;34m.\u001b[0m\u001b[0mhistory\u001b[0m\u001b[0;34m[\u001b[0m\u001b[0;34m'loss'\u001b[0m\u001b[0;34m]\u001b[0m\u001b[0;34m,\u001b[0m \u001b[0mlabel\u001b[0m\u001b[0;34m=\u001b[0m\u001b[0;34mf'Training Loss ({model_names[i]})'\u001b[0m\u001b[0;34m)\u001b[0m\u001b[0;34m\u001b[0m\u001b[0;34m\u001b[0m\u001b[0m\n\u001b[0m\u001b[1;32m     17\u001b[0m     \u001b[0mplt\u001b[0m\u001b[0;34m.\u001b[0m\u001b[0mplot\u001b[0m\u001b[0;34m(\u001b[0m\u001b[0mmodel\u001b[0m\u001b[0;34m.\u001b[0m\u001b[0mhistory\u001b[0m\u001b[0;34m.\u001b[0m\u001b[0mhistory\u001b[0m\u001b[0;34m[\u001b[0m\u001b[0;34m'val_loss'\u001b[0m\u001b[0;34m]\u001b[0m\u001b[0;34m,\u001b[0m \u001b[0mlabel\u001b[0m\u001b[0;34m=\u001b[0m\u001b[0;34mf'Validation Loss ({model_names[i]})'\u001b[0m\u001b[0;34m)\u001b[0m\u001b[0;34m\u001b[0m\u001b[0;34m\u001b[0m\u001b[0m\n\u001b[1;32m     18\u001b[0m \u001b[0;34m\u001b[0m\u001b[0m\n",
            "\u001b[0;31mAttributeError\u001b[0m: 'NoneType' object has no attribute 'history'"
          ]
        }
      ]
    },
    {
      "cell_type": "code",
      "source": [
        "\n",
        "\n",
        "\n"
      ],
      "metadata": {
        "colab": {
          "base_uri": "https://localhost:8080/",
          "height": 232
        },
        "id": "CyLzwxDNQR1h",
        "outputId": "64e3bdae-1ac5-429c-9067-cf5e99213d50"
      },
      "execution_count": 17,
      "outputs": [
        {
          "output_type": "error",
          "ename": "NameError",
          "evalue": "ignored",
          "traceback": [
            "\u001b[0;31m---------------------------------------------------------------------------\u001b[0m",
            "\u001b[0;31mNameError\u001b[0m                                 Traceback (most recent call last)",
            "\u001b[0;32m<ipython-input-17-09541da3d12f>\u001b[0m in \u001b[0;36m<cell line: 3>\u001b[0;34m()\u001b[0m\n\u001b[1;32m      2\u001b[0m \u001b[0mhistory_list\u001b[0m \u001b[0;34m=\u001b[0m \u001b[0;34m[\u001b[0m\u001b[0;34m]\u001b[0m\u001b[0;34m\u001b[0m\u001b[0;34m\u001b[0m\u001b[0m\n\u001b[1;32m      3\u001b[0m \u001b[0;32mfor\u001b[0m \u001b[0mi\u001b[0m\u001b[0;34m,\u001b[0m \u001b[0;34m(\u001b[0m\u001b[0mmodel\u001b[0m\u001b[0;34m,\u001b[0m \u001b[0mmodel_filename\u001b[0m\u001b[0;34m)\u001b[0m \u001b[0;32min\u001b[0m \u001b[0menumerate\u001b[0m\u001b[0;34m(\u001b[0m\u001b[0mzip\u001b[0m\u001b[0;34m(\u001b[0m\u001b[0mmodels\u001b[0m\u001b[0;34m,\u001b[0m \u001b[0mmodel_filenames\u001b[0m\u001b[0;34m)\u001b[0m\u001b[0;34m)\u001b[0m\u001b[0;34m:\u001b[0m\u001b[0;34m\u001b[0m\u001b[0;34m\u001b[0m\u001b[0m\n\u001b[0;32m----> 4\u001b[0;31m     \u001b[0mhistory\u001b[0m \u001b[0;34m=\u001b[0m \u001b[0mmodel\u001b[0m\u001b[0;34m.\u001b[0m\u001b[0mfit\u001b[0m\u001b[0;34m(\u001b[0m\u001b[0mX_train\u001b[0m\u001b[0;34m,\u001b[0m \u001b[0mX_train\u001b[0m\u001b[0;34m,\u001b[0m \u001b[0mepochs\u001b[0m\u001b[0;34m=\u001b[0m\u001b[0;36m100\u001b[0m\u001b[0;34m,\u001b[0m \u001b[0mbatch_size\u001b[0m\u001b[0;34m=\u001b[0m\u001b[0;36m16\u001b[0m\u001b[0;34m,\u001b[0m \u001b[0mvalidation_split\u001b[0m\u001b[0;34m=\u001b[0m\u001b[0;36m0.2\u001b[0m\u001b[0;34m,\u001b[0m \u001b[0mverbose\u001b[0m\u001b[0;34m=\u001b[0m\u001b[0;36m0\u001b[0m\u001b[0;34m)\u001b[0m\u001b[0;34m\u001b[0m\u001b[0;34m\u001b[0m\u001b[0m\n\u001b[0m\u001b[1;32m      5\u001b[0m     \u001b[0mhistory_list\u001b[0m\u001b[0;34m.\u001b[0m\u001b[0mappend\u001b[0m\u001b[0;34m(\u001b[0m\u001b[0mhistory\u001b[0m\u001b[0;34m)\u001b[0m\u001b[0;34m\u001b[0m\u001b[0;34m\u001b[0m\u001b[0m\n\u001b[1;32m      6\u001b[0m     \u001b[0mmodel\u001b[0m\u001b[0;34m.\u001b[0m\u001b[0msave\u001b[0m\u001b[0;34m(\u001b[0m\u001b[0mmodel_filename\u001b[0m\u001b[0;34m)\u001b[0m\u001b[0;34m\u001b[0m\u001b[0;34m\u001b[0m\u001b[0m\n",
            "\u001b[0;31mNameError\u001b[0m: name 'X_train' is not defined"
          ]
        }
      ]
    }
  ]
}